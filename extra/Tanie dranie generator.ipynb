{
 "cells": [
  {
   "cell_type": "code",
   "execution_count": 5,
   "metadata": {},
   "outputs": [
    {
     "name": "stdout",
     "output_type": "stream",
     "text": [
      "grammar loaded\n"
     ]
    }
   ],
   "source": [
    "import nltk\n",
    "import random\n",
    "grammar = nltk.load('tanie_dranie_grammar.fcfg', format=\"fcfg\", verbose=False)\n",
    "grammar = nltk.induce_pcfg(grammar.start(), grammar.productions())\n",
    "\n",
    "print(\"grammar loaded\")\n"
   ]
  },
  {
   "cell_type": "code",
   "execution_count": 44,
   "metadata": {},
   "outputs": [
    {
     "name": "stdout",
     "output_type": "stream",
     "text": [
      "1000000 2000000 3000000 4000000 5000000 6000000 7000000 8000000 9000000 10000000 11000000 12000000 13000000 14000000 15000000 16000000 17000000 18000000 19000000 20000000 21000000 22000000 23000000 24000000 25000000 26000000 27000000 28000000 29000000 30000000 31000000 32000000 33000000 34000000 35000000 36000000 37000000 38000000 39000000 40000000 41000000 42000000 43000000 44000000 45000000 46000000 47000000 48000000 49000000 50000000 51000000 52000000 53000000 54000000 55000000 56000000 57000000 58000000 59000000 set_loaded\n"
     ]
    }
   ],
   "source": [
    "bigrams = {}\n",
    "\n",
    "it = 0\n",
    "\n",
    "for line in open(\"../poleval_corpus/poleval_2grams.txt\"):\n",
    "    num, fst, snd = line.split()\n",
    "    int(num)\n",
    "    if fst not in bigrams:\n",
    "        bigrams[fst] = {}\n",
    "    bigrams[fst][snd] = bigrams[fst].get(snd, 0) + 1\n",
    "    it += 1\n",
    "    if it % 1000000 == 0:\n",
    "        print(it, end=\" \" )\n",
    "\n",
    "print(\"set_loaded\")"
   ]
  },
  {
   "cell_type": "code",
   "execution_count": 36,
   "metadata": {
    "collapsed": true
   },
   "outputs": [],
   "source": [
    "def score(line):\n",
    "    \n",
    "    fst, snd, _ = line.split(\"\\n\")\n",
    "    fst = fst.split()\n",
    "    snd = snd.split()\n",
    "    \n",
    "    score = 0\n",
    "    \n",
    "    prev = fst[0]\n",
    "    for word in fst[1:]:\n",
    "        if prev in bigrams:\n",
    "            score += bigrams[prev].get(word,0)\n",
    "        prev = word\n",
    "        \n",
    "    prev = snd[0]\n",
    "    for word in snd[1:]:\n",
    "        if prev in bigrams:\n",
    "            score += bigrams[prev].get(word,0)\n",
    "        prev = word\n",
    "        \n",
    "    \n",
    "    \n",
    "    if fst[-1] == snd[-1]:\n",
    "        return 0\n",
    "    return 1"
   ]
  },
  {
   "cell_type": "code",
   "execution_count": 13,
   "metadata": {
    "collapsed": true
   },
   "outputs": [],
   "source": [
    "\n",
    "\n",
    "def generate_one(symbol):\n",
    "    if nltk.grammar.is_terminal(symbol):\n",
    "        return [symbol]\n",
    "    prods = grammar.productions(lhs=symbol)\n",
    "    children = [ prod.rhs() for prod in prods ]\n",
    "    probs = [prod.prob() for prod in prods]\n",
    "    #print(symbol)\n",
    "    new_prod  = random.choices(children, probs, k=1)[0]\n",
    "    res = []\n",
    "    for child in new_prod:\n",
    "        res += generate_one(child)    \n",
    "    return res\n",
    "\n",
    "\n",
    "\n"
   ]
  },
  {
   "cell_type": "code",
   "execution_count": 49,
   "metadata": {},
   "outputs": [
    {
     "name": "stdout",
     "output_type": "stream",
     "text": [
      "zatrudnienie pawła z klienta\n",
      " dochowanie przez berenta\n",
      "powołanie przez berenta\n",
      " wprowadzenie szewca w klienta\n",
      "znalezienie chrobrcgo w piusa\n",
      " rozwiązanie przez jezusa\n",
      "rozwiązanie wielkich pań\n",
      " przysługuje tani drań\n",
      " \n"
     ]
    }
   ],
   "source": [
    "def generate():\n",
    "    symbols = grammar.productions(lhs=grammar.start())[0]\n",
    "    \n",
    "    res = []\n",
    "    for symbol in symbols.rhs():\n",
    "        props = []\n",
    "        while len(props) < 40:\n",
    "            try:\n",
    "                line = generate_one(symbol)\n",
    "                props.append(\" \".join(line).replace(\" endl\",\"\\n\"))\n",
    "            except Exception as e:\n",
    "                pass\n",
    "        \n",
    "        max_score = -100\n",
    "        max_scorer = None\n",
    "        for line in props:\n",
    "            points = score(line)\n",
    "            if max_score < points:\n",
    "                max_score = points\n",
    "                max_scorer = line\n",
    "                \n",
    "        res.append(max_scorer)\n",
    "    return \"\".join(res)\n",
    "    \n",
    "print(generate())\n",
    "    \n",
    "    "
   ]
  }
 ],
 "metadata": {
  "kernelspec": {
   "display_name": "Python 3",
   "language": "python",
   "name": "python3"
  },
  "language_info": {
   "codemirror_mode": {
    "name": "ipython",
    "version": 3
   },
   "file_extension": ".py",
   "mimetype": "text/x-python",
   "name": "python",
   "nbconvert_exporter": "python",
   "pygments_lexer": "ipython3",
   "version": "3.6.3"
  }
 },
 "nbformat": 4,
 "nbformat_minor": 2
}

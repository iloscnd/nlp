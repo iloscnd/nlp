{
 "cells": [
  {
   "cell_type": "markdown",
   "metadata": {
    "collapsed": true
   },
   "source": [
    "## Task 6"
   ]
  },
  {
   "cell_type": "code",
   "execution_count": 42,
   "metadata": {},
   "outputs": [
    {
     "name": "stdout",
     "output_type": "stream",
     "text": [
      "3\n",
      "12\n"
     ]
    }
   ],
   "source": [
    "import re\n",
    "\n",
    "s1 = re.compile(\"[aeiouóyęą]\")\n",
    "s2 = re.compile(\"i[aeouęą]\")\n",
    "\n",
    "def syllabicator(word):\n",
    "    if word in \".,;:'\\\"-=!?()\\\\\":\n",
    "        return 0\n",
    "    \n",
    "    return len(s1.findall(word)) -len(s2.findall(word))\n",
    "            \n",
    "               \n",
    "               \n",
    "print(syllabicator(\"kierunek\"))\n",
    "print(syllabicator(\"konstantynopolitańczykowianeczka\"))\n",
    "\n"
   ]
  },
  {
   "cell_type": "code",
   "execution_count": 43,
   "metadata": {
    "collapsed": true
   },
   "outputs": [],
   "source": [
    "\n",
    "good_accents = set()\n",
    "\n",
    "for line in open(\"../resources/pan-tadeusz.txt\"):\n",
    "    line = re.sub('([-.,!?()])', r' \\1 ', line)\n",
    "    line = re.sub('\\s{2,}', ' ', line)\n",
    "    \n",
    "    accents = []\n",
    "    \n",
    "    for word in line.lower().split():\n",
    "        syllables = syllabicator(word)\n",
    "        if syllables > 0:\n",
    "            accents.append(syllables)\n",
    "    if(len(accents)>6): #dlugie sa brzydkie\n",
    "        continue\n",
    "    \n",
    "    if sum(accents) == 13:\n",
    "        good_accents.add(tuple(accents))\n",
    "        \n",
    "\n"
   ]
  },
  {
   "cell_type": "code",
   "execution_count": 44,
   "metadata": {},
   "outputs": [
    {
     "name": "stdout",
     "output_type": "stream",
     "text": [
      "eczka\n",
      "pplklpklkjplkj\n"
     ]
    }
   ],
   "source": [
    "\n",
    "suffix_ = re.compile(\"[^aeiouóyęą]*[aeiouóyęą][^aeiouóyęą]*[aeiouóyęą]\")\n",
    "def get_suffix(word):\n",
    "    match = suffix_.search(word[::-1])\n",
    "    if match:\n",
    "        return match.group(0)[::-1]\n",
    "    else:\n",
    "        return word\n",
    "\n",
    "print(get_suffix(\"konstantynopolitańczykowianeczka\"))\n",
    "print(get_suffix(\"pplklpklkjplkj\"))"
   ]
  },
  {
   "cell_type": "code",
   "execution_count": 45,
   "metadata": {
    "collapsed": true,
    "scrolled": true
   },
   "outputs": [],
   "source": [
    "rhymes = {} #from suffix to list of words\n",
    "bigrams = {} #from snd in bigrams to list of n_syllables to words\n",
    "unigrams = [{} for _ in range(9)]\n",
    "\n",
    "for line in open(\"../poleval_corpus/poleval_2grams.txt\"):\n",
    "    count, prev, word = line.split()\n",
    "    count = int(count)\n",
    "    \n",
    "    word_syllables = syllabicator(word)\n",
    "    prev_syllables = syllabicator(prev)\n",
    "    \n",
    "    if word_syllables <= 0 or prev_syllables <= 0 or \\\n",
    "       word_syllables >= 9 or prev_syllables >= 9:\n",
    "        continue\n",
    "    \n",
    "    suffix = get_suffix(word)\n",
    "    \n",
    "    if suffix not in rhymes:\n",
    "        rhymes[suffix] = [set() for _ in range(9)]\n",
    "    \n",
    "    rhymes[suffix][word_syllables].add(word)\n",
    "    \n",
    "    unigrams[word_syllables][word] = unigrams[word_syllables].get(word, 0) + count\n",
    "    unigrams[prev_syllables][prev] = unigrams[prev_syllables].get(prev, 0) + count\n",
    "    \n",
    "    if word not in bigrams:\n",
    "        bigrams[word] = [{} for _ in range(9)]\n",
    "        \n",
    "    bigrams[word][prev_syllables][prev] = count\n",
    "    \n"
   ]
  },
  {
   "cell_type": "code",
   "execution_count": 61,
   "metadata": {},
   "outputs": [
    {
     "data": {
      "text/plain": [
       "['swój wkład dziękuję bardzo długim klinowatym',\n",
       " 'mieszkaniową a które się o groszkowatym']"
      ]
     },
     "execution_count": 61,
     "metadata": {},
     "output_type": "execute_result"
    }
   ],
   "source": [
    "#wylosuj rozkład rymów dla dwóch linijek\n",
    "\n",
    "# wylosuj ostatnie slowo\n",
    "# wylosuj do niego rym\n",
    "\n",
    "# losuj słowa\n",
    "\n",
    "import random\n",
    "\n",
    "good_accents = list(good_accents)\n",
    "\n",
    "\n",
    "def make_line(accents, prev):\n",
    "    \n",
    "    res = [prev]\n",
    "    for accent in reversed(accents):\n",
    "        if prev in bigrams and bigrams[prev][accent]:\n",
    "            word = random.choices(list(bigrams[prev][accent].keys()), weights=list(bigrams[prev][accent].values()))[0]\n",
    "        else:\n",
    "            word = random.choices(list(unigrams[accent].keys()), weights=list(unigrams[accent].values()))[0]\n",
    "        res.append(word)\n",
    "        prev = word\n",
    "    return \" \".join(reversed(res))\n",
    "\n",
    "def get_poem():\n",
    "    \n",
    "    good = False\n",
    "    while not good:\n",
    "        good = True\n",
    "        \n",
    "        second_line_accents = random.choice(good_accents)\n",
    "        first_line_accents = random.choice(good_accents)\n",
    "        \n",
    "        #wylosuj pierwsze słowo\n",
    "        \n",
    "        n_syllables = -1\n",
    "        while n_syllables != first_line_accents[-1]:\n",
    "            first_word = random.choice(list(bigrams.keys()))\n",
    "            n_syllables = syllabicator(first_word)\n",
    "        \n",
    "        first_suffix = get_suffix(first_word)\n",
    "        \n",
    "        if not rhymes[first_suffix][n_syllables]:\n",
    "            good = False\n",
    "            continue\n",
    "            \n",
    "        second_word = random.choice(list(rhymes[first_suffix][n_syllables]))\n",
    "        \n",
    "        first_line = make_line(first_line_accents[:-1], first_word)\n",
    "        second_line = make_line(second_line_accents[:-1], second_word)\n",
    "        \n",
    "    return [first_line, second_line]\n",
    "\n",
    "\n",
    "get_poem()"
   ]
  },
  {
   "cell_type": "code",
   "execution_count": 1,
   "metadata": {},
   "outputs": [
    {
     "ename": "NameError",
     "evalue": "name 'get_poem' is not defined",
     "output_type": "error",
     "traceback": [
      "\u001b[0;31m---------------------------------------------------------------------------\u001b[0m",
      "\u001b[0;31mNameError\u001b[0m                                 Traceback (most recent call last)",
      "\u001b[0;32m<ipython-input-1-cb5211b0cc1e>\u001b[0m in \u001b[0;36m<module>\u001b[0;34m()\u001b[0m\n\u001b[0;32m----> 1\u001b[0;31m \u001b[0mget_poem\u001b[0m\u001b[0;34m(\u001b[0m\u001b[0;34m)\u001b[0m\u001b[0;34m\u001b[0m\u001b[0m\n\u001b[0m",
      "\u001b[0;31mNameError\u001b[0m: name 'get_poem' is not defined"
     ]
    }
   ],
   "source": [
    "get_poem()"
   ]
  }
 ],
 "metadata": {
  "kernelspec": {
   "display_name": "Python 3",
   "language": "python",
   "name": "python3"
  },
  "language_info": {
   "codemirror_mode": {
    "name": "ipython",
    "version": 3
   },
   "file_extension": ".py",
   "mimetype": "text/x-python",
   "name": "python",
   "nbconvert_exporter": "python",
   "pygments_lexer": "ipython3",
   "version": "3.6.3"
  }
 },
 "nbformat": 4,
 "nbformat_minor": 2
}

{
 "cells": [
  {
   "cell_type": "markdown",
   "metadata": {
    "collapsed": true
   },
   "source": [
    "## Task 6"
   ]
  },
  {
   "cell_type": "code",
   "execution_count": 1,
   "metadata": {},
   "outputs": [
    {
     "name": "stdout",
     "output_type": "stream",
     "text": [
      "3\n",
      "12\n"
     ]
    }
   ],
   "source": [
    "import re\n",
    "\n",
    "s1 = re.compile(\"[aeiouóyęą]\")\n",
    "s2 = re.compile(\"i[aeouęą]\")\n",
    "\n",
    "def syllabicator(word):\n",
    "    if word in \".,;:'\\\"-=!?()\\\\\":\n",
    "        return 0\n",
    "    \n",
    "    return len(s1.findall(word)) -len(s2.findall(word))\n",
    "            \n",
    "               \n",
    "               \n",
    "print(syllabicator(\"kierunek\"))\n",
    "print(syllabicator(\"konstantynopolitańczykowianeczka\"))\n",
    "\n"
   ]
  },
  {
   "cell_type": "code",
   "execution_count": 2,
   "metadata": {
    "collapsed": true
   },
   "outputs": [],
   "source": [
    "\n",
    "good_accents = set()\n",
    "\n",
    "for line in open(\"../resources/pan-tadeusz.txt\"):\n",
    "    line = re.sub('([-.,!?()])', r' \\1 ', line)\n",
    "    line = re.sub('\\s{2,}', ' ', line)\n",
    "    \n",
    "    accents = []\n",
    "    \n",
    "    for word in line.lower().split():\n",
    "        syllables = syllabicator(word)\n",
    "        if syllables > 0:\n",
    "            accents.append(syllables)\n",
    "    if(len(accents)>6): #dlugie sa brzydkie\n",
    "        continue\n",
    "    \n",
    "    if sum(accents) == 13:\n",
    "        good_accents.add(tuple(accents))\n",
    "        \n",
    "\n"
   ]
  },
  {
   "cell_type": "code",
   "execution_count": 3,
   "metadata": {},
   "outputs": [
    {
     "name": "stdout",
     "output_type": "stream",
     "text": [
      "eczka\n",
      "pplklpklkjplkj\n"
     ]
    }
   ],
   "source": [
    "\n",
    "suffix_ = re.compile(\"[^aeiouóyęą]*[aeiouóyęą][^aeiouóyęą]*[aeiouóyęą]\")\n",
    "def get_suffix(word):\n",
    "    match = suffix_.search(word[::-1])\n",
    "    if match:\n",
    "        return match.group(0)[::-1]\n",
    "    else:\n",
    "        return word\n",
    "\n",
    "print(get_suffix(\"konstantynopolitańczykowianeczka\"))\n",
    "print(get_suffix(\"pplklpklkjplkj\"))"
   ]
  },
  {
   "cell_type": "code",
   "execution_count": 23,
   "metadata": {
    "collapsed": true,
    "scrolled": true
   },
   "outputs": [],
   "source": [
    "rhymes = {} #from suffix to list of words\n",
    "bigrams = {} #from snd in bigrams to list of n_syllables to words\n",
    "unigrams = [{} for _ in range(9)]\n",
    "\n",
    "for line in open(\"../poleval_corpus/poleval_2grams.txt\"):\n",
    "    count, prev, word = line.split()\n",
    "    count = int(count)\n",
    "    \n",
    "    word_syllables = syllabicator(word)\n",
    "    prev_syllables = syllabicator(prev)\n",
    "    \n",
    "    if word_syllables <= 0 or prev_syllables <= 0 or \\\n",
    "       word_syllables >= 9 or prev_syllables >= 9:\n",
    "        continue\n",
    "    \n",
    "    suffix = get_suffix(word)\n",
    "    \n",
    "    if suffix not in rhymes:\n",
    "        rhymes[suffix] = [set() for _ in range(9)]\n",
    "    \n",
    "    rhymes[suffix][word_syllables].add(word)\n",
    "    \n",
    "    unigrams[word_syllables][word] = unigrams[word_syllables].get(word, 0) + count\n",
    "    unigrams[prev_syllables][prev] = unigrams[prev_syllables].get(prev, 0) + count\n",
    "    \n",
    "    if word not in bigrams:\n",
    "        bigrams[word] = [{} for _ in range(9)]\n",
    "        \n",
    "    bigrams[word][prev_syllables][prev] = count\n",
    "    \n"
   ]
  },
  {
   "cell_type": "code",
   "execution_count": 24,
   "metadata": {},
   "outputs": [],
   "source": [
    "for word in bigrams:\n",
    "    bigrams[word][0][\"#SUM#\"] = sum([sum(x.values()) for x in bigrams[word]])\n",
    "\n",
    "unigrams[0][\"#SUM#\"] = sum([sum(x.values()) for x in unigrams])"
   ]
  },
  {
   "cell_type": "code",
   "execution_count": 25,
   "metadata": {},
   "outputs": [
    {
     "name": "stdout",
     "output_type": "stream",
     "text": [
      "1604\n"
     ]
    }
   ],
   "source": [
    "print(bigrams[\"identyczny\"][0][\"#SUM#\"])"
   ]
  },
  {
   "cell_type": "code",
   "execution_count": 26,
   "metadata": {
    "scrolled": true
   },
   "outputs": [
    {
     "data": {
      "text/plain": [
       "['odniesieniu do zdania mówiącego o en94-05',\n",
       " 'na kolonii rufem tworząc zespół en94-05']"
      ]
     },
     "execution_count": 26,
     "metadata": {},
     "output_type": "execute_result"
    }
   ],
   "source": [
    "#wylosuj rozkład rymów dla dwóch linijek\n",
    "\n",
    "# wylosuj ostatnie slowo\n",
    "# wylosuj do niego rym\n",
    "\n",
    "# losuj słowa\n",
    "\n",
    "import random\n",
    "\n",
    "good_accents = list(good_accents)\n",
    "\n",
    "\n",
    "def make_line(accents, prev):\n",
    "    \n",
    "    res = [prev]\n",
    "    for accent in reversed(accents):\n",
    "        if prev in bigrams and bigrams[prev][accent]:\n",
    "            word = random.choices(list(bigrams[prev][accent].keys()), weights=list(bigrams[prev][accent].values()))[0]\n",
    "        else:\n",
    "            word = random.choices(list(unigrams[accent].keys()), weights=list(unigrams[accent].values()))[0]\n",
    "        res.append(word)\n",
    "        prev = word\n",
    "    return \" \".join(reversed(res))\n",
    "\n",
    "def get_poem():\n",
    "    \n",
    "    good = False\n",
    "    while not good:\n",
    "        good = True\n",
    "        \n",
    "        second_line_accents = random.choice(good_accents)\n",
    "        first_line_accents = random.choice(good_accents)\n",
    "        \n",
    "        #wylosuj pierwsze słowo\n",
    "        \n",
    "        n_syllables = -1\n",
    "        while n_syllables != first_line_accents[-1]:\n",
    "            first_word = random.choice(list(bigrams.keys()))\n",
    "            n_syllables = syllabicator(first_word)\n",
    "        \n",
    "        first_suffix = get_suffix(first_word)\n",
    "        \n",
    "        if not rhymes[first_suffix][n_syllables]:\n",
    "            good = False\n",
    "            continue\n",
    "            \n",
    "        second_word = random.choice(list(rhymes[first_suffix][n_syllables]))\n",
    "        \n",
    "        first_line = make_line(first_line_accents[:-1], first_word)\n",
    "        second_line = make_line(second_line_accents[:-1], second_word)\n",
    "        \n",
    "    return [first_line, second_line]\n",
    "\n",
    "\n",
    "get_poem()"
   ]
  },
  {
   "cell_type": "markdown",
   "metadata": {},
   "source": [
    "## Task 7"
   ]
  },
  {
   "cell_type": "code",
   "execution_count": 35,
   "metadata": {
    "scrolled": true
   },
   "outputs": [
    {
     "name": "stdout",
     "output_type": "stream",
     "text": [
      "5.933089494947373\n",
      "9.796755318167866\n"
     ]
    }
   ],
   "source": [
    "import math\n",
    "def ppmi(a, b):\n",
    "    syll_a = syllabicator(a)\n",
    "    syll_b = syllabicator(b)\n",
    "    # bigram (w1,w2) koduje w bigrams[w2][syll_w2][w1]\n",
    "    # unigram w1 koduje w unigrams[syll_w2][w2]\n",
    "    \n",
    "    if b not in bigrams:\n",
    "        return 0\n",
    "    if a not in bigrams[b][syll_a]:\n",
    "        return 0\n",
    "    \n",
    "    return max(0, math.log2( bigrams[b][syll_a][a]*unigrams[0][\"#SUM#\"]/(bigrams[b][0][\"#SUM#\"]*unigrams[syll_a][a])))\n",
    "    \n",
    "\n",
    "print(ppmi(\"dobry\", \"dzien\"))\n",
    "print(ppmi(\"dzien\", \"dobry\"))\n",
    "\n"
   ]
  },
  {
   "cell_type": "code",
   "execution_count": 56,
   "metadata": {},
   "outputs": [
    {
     "name": "stdout",
     "output_type": "stream",
     "text": [
      "koncentratora hdmi lub natężenie rottków\n",
      "winni im lub kastracji u rottków\n",
      "Collocations:\n",
      "[13.786273435719783, 2.8394185288193996, 1.3167419062860835, 0, 0]\n",
      "[3.120286845915364, 0, 5.319698249617495, 3.5228206147371695, 10.724164319234951]\n",
      "była bardzo dobrą zmianą rottków\n",
      "jedną rzeczą jaką pełni sprawnym rottków\n",
      "Collocations:\n",
      "[2.98604107048, 6.237736965712467, 5.930657273899122, 0, 0]\n",
      "[6.802495661947837, 7.98668241953121, 7.132256145964075, 8.24576031000129, 0]\n"
     ]
    },
    {
     "data": {
      "text/plain": [
       "'była bardzo dobrą zmianą rottków\\n jedną rzeczą jaką pełni sprawnym rottków'"
      ]
     },
     "execution_count": 56,
     "metadata": {},
     "output_type": "execute_result"
    }
   ],
   "source": [
    "\n",
    "\n",
    "def best_collocation():\n",
    "    a, b = get_poem()\n",
    "    print(\"\\n\".join([a,b]))\n",
    "    a = a.split()\n",
    "    b = b.split()\n",
    "    print(\"Collocations:\")\n",
    "    print([ppmi(a[i], a[i+1]) for i in range(len(a)-1)] + [ppmi(a[-1], b[0])])\n",
    "    print([ppmi(b[i], b[i+1]) for i in range(len(b)-1)] )\n",
    "    \n",
    "    # losuj słowa tak, zeby miec lepsza kolokacyjnosc z juz wylosowanym\n",
    "    for i in range(len(a)-1, 0, -1):\n",
    "        prev = a[i]\n",
    "        accent = syllabicator(a[i])\n",
    "        if prev in bigrams and bigrams[prev][accent]:\n",
    "            words = random.choices(list(bigrams[prev][accent].keys()), weights=list(bigrams[prev][accent].values()), k=10)\n",
    "        else:\n",
    "            words = random.choices(list(unigrams[accent].keys()), weights=list(unigrams[accent].values()), k=10)\n",
    "        _, best = sorted([(ppmi(word, a[i]), word) for word in words], reverse=True)[0]\n",
    "        a[i-1] = best\n",
    "        \n",
    "    for i in range(len(b)-1, 0, -1):\n",
    "        prev = b[i]\n",
    "        accent = syllabicator(b[i])\n",
    "        if prev in bigrams and bigrams[prev][accent]:\n",
    "            words = random.choices(list(bigrams[prev][accent].keys()), weights=list(bigrams[prev][accent].values()), k=10)\n",
    "        else:\n",
    "            words = random.choices(list(unigrams[accent].keys()), weights=list(unigrams[accent].values()), k=10)\n",
    "        _, best = sorted([(ppmi(word, b[i]), word) for word in words], reverse=True)[0]\n",
    "        b[i-1] = best\n",
    "    \n",
    "    \n",
    "    print(\" \".join(a))\n",
    "    print(\" \".join(b))\n",
    "    \n",
    "    print(\"Collocations:\")\n",
    "    print([ppmi(a[i], a[i+1]) for i in range(len(a)-1)] + [ppmi(a[-1], b[0])])\n",
    "    print([ppmi(b[i], b[i+1]) for i in range(len(b)-1)] )   \n",
    "    \n",
    "    a = \" \".join(a)\n",
    "    b = \" \".join(b)\n",
    "    \n",
    "    return \"\\n \".join([a,b])\n",
    "    \n",
    "\n",
    "best_collocation()\n"
   ]
  }
 ],
 "metadata": {
  "kernelspec": {
   "display_name": "Python 3",
   "language": "python",
   "name": "python3"
  },
  "language_info": {
   "codemirror_mode": {
    "name": "ipython",
    "version": 3
   },
   "file_extension": ".py",
   "mimetype": "text/x-python",
   "name": "python",
   "nbconvert_exporter": "python",
   "pygments_lexer": "ipython3",
   "version": "3.6.3"
  }
 },
 "nbformat": 4,
 "nbformat_minor": 2
}

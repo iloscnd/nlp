{
 "cells": [
  {
   "cell_type": "markdown",
   "metadata": {},
   "source": [
    "## Task 2"
   ]
  },
  {
   "cell_type": "code",
   "execution_count": 16,
   "metadata": {},
   "outputs": [],
   "source": [
    "#rozwiazanie na bazie deleted interpolation\n",
    "#model bazujacy na tagach jak ma dzialac?\n",
    "# p(t_i | t_(i-1))\n",
    "\n",
    "##Oblicze najpierw parametry i po prostu \n",
    "import random\n",
    "\n",
    "\n",
    "prob = 0.8 #prawdopodobienstwo, ze bedzie to w K1\n",
    "\n",
    "#wczytaj tagi\n",
    "\n",
    "\n",
    "bigrams_tags = {}\n",
    "bigrams_words = {}\n",
    "\n",
    "test = []\n",
    "\n",
    "for line in open(\"../poleval_corpus/poleval_2grams.txt\"):\n",
    "    count, prev, word = line.split()\n",
    "    count = int(count)\n",
    "    prev_tag = tags_from_words.get(prev, prev)\n",
    "    word_tag = tags_from_words.get(word, word)\n",
    "    \n",
    "    if random.random() > prob:\n",
    "        test.append((count,prev,word))\n",
    "        continue\n",
    "    \n",
    "    if prev not in bigrams_words:\n",
    "        bigrams_words[prev] = {}\n",
    "    bigrams_words[prev][word] = count\n",
    "    \n",
    "    if prev_tag not in bigrams_tags:\n",
    "        bigrams_tags[prev_tag] = {}\n",
    "    bigrams_tags[prev_tag][word_tag] = bigrams_tags[prev_tag].get(word_tag, 0) + count\n",
    "    \n",
    "   \n"
   ]
  },
  {
   "cell_type": "code",
   "execution_count": 18,
   "metadata": {},
   "outputs": [
    {
     "ename": "KeyboardInterrupt",
     "evalue": "",
     "output_type": "error",
     "traceback": [
      "\u001b[0;31m---------------------------------------------------------------------------\u001b[0m",
      "\u001b[0;31mKeyboardInterrupt\u001b[0m                         Traceback (most recent call last)",
      "\u001b[0;32m<ipython-input-18-80b54014723f>\u001b[0m in \u001b[0;36m<module>\u001b[0;34m()\u001b[0m\n\u001b[1;32m     17\u001b[0m     \u001b[0;32melse\u001b[0m\u001b[0;34m:\u001b[0m\u001b[0;34m\u001b[0m\u001b[0m\n\u001b[1;32m     18\u001b[0m         \u001b[0mtags_prob\u001b[0m \u001b[0;34m=\u001b[0m \u001b[0mbigrams_tags\u001b[0m\u001b[0;34m[\u001b[0m\u001b[0mprev_tag\u001b[0m\u001b[0;34m]\u001b[0m\u001b[0;34m.\u001b[0m\u001b[0mget\u001b[0m\u001b[0;34m(\u001b[0m\u001b[0mword_tag\u001b[0m\u001b[0;34m,\u001b[0m \u001b[0;36m0\u001b[0m\u001b[0;34m)\u001b[0m\u001b[0;34m\u001b[0m\u001b[0m\n\u001b[0;32m---> 19\u001b[0;31m         \u001b[0mtags_prob\u001b[0m \u001b[0;34m/=\u001b[0m \u001b[0msum\u001b[0m\u001b[0;34m(\u001b[0m\u001b[0mbigrams_tags\u001b[0m\u001b[0;34m[\u001b[0m\u001b[0mprev_tag\u001b[0m\u001b[0;34m]\u001b[0m\u001b[0;34m.\u001b[0m\u001b[0mvalues\u001b[0m\u001b[0;34m(\u001b[0m\u001b[0;34m)\u001b[0m\u001b[0;34m)\u001b[0m\u001b[0;34m\u001b[0m\u001b[0m\n\u001b[0m\u001b[1;32m     20\u001b[0m \u001b[0;34m\u001b[0m\u001b[0m\n\u001b[1;32m     21\u001b[0m     \u001b[0;32mif\u001b[0m \u001b[0mwords_prob\u001b[0m \u001b[0;34m<\u001b[0m \u001b[0mtags_prob\u001b[0m\u001b[0;34m:\u001b[0m\u001b[0;34m\u001b[0m\u001b[0m\n",
      "\u001b[0;31mKeyboardInterrupt\u001b[0m: "
     ]
    }
   ],
   "source": [
    "\n",
    "w1 = w2 = 0\n",
    "\n",
    "for count, prev, word in test:\n",
    "    \n",
    "    prev_tag = tags_from_words.get(prev, prev)\n",
    "    word_tag = tags_from_words.get(word, word)\n",
    "    \n",
    "    if prev not in bigrams_words:\n",
    "        words_prob = 0\n",
    "    else:\n",
    "        if \"#SUM#\" not in bigrams_words[prev]:\n",
    "            bigrams_wordsds\n",
    "        words_prob = bigrams_words[prev].get(word, 0)\n",
    "        words_prob /= sum(bigrams_words[prev].values())\n",
    "    \n",
    "    if prev_tag not in bigrams_tags:\n",
    "        tags_prob = 0\n",
    "    else:\n",
    "        tags_prob = bigrams_tags[prev_tag].get(word_tag, 0)\n",
    "        tags_prob /= sum(bigrams_tags[prev_tag].values())\n",
    "    \n",
    "    if words_prob < tags_prob:\n",
    "        w2 += count\n",
    "    else:\n",
    "        w1 += count\n",
    "        \n",
    "print(w1, w2)\n",
    "print(\"for words {}\".format(w1/(w1+w2)))\n",
    "print(\"for tags {}\".format(w1/(w1+w2)))\n",
    "\n"
   ]
  },
  {
   "cell_type": "code",
   "execution_count": 4,
   "metadata": {},
   "outputs": [
    {
     "data": {
      "text/plain": [
       "0.14285714285714285"
      ]
     },
     "execution_count": 4,
     "metadata": {},
     "output_type": "execute_result"
    }
   ],
   "source": [
    "\n",
    "\n",
    "def jackard_coefficient(a,b):\n",
    "    a = list(zip([\"<BOS>\"] + a, a + [\"<EOS>\"]))\n",
    "    b = list(zip([\"<BOS>\"] + b, b + [\"<EOS>\"]))\n",
    "    \n",
    "    both = 0\n",
    "    for pair in a:\n",
    "        if pair in b:\n",
    "            both += 1\n",
    "    \n",
    "    return both/(len(a)+len(b)-both)\n",
    "    "
   ]
  },
  {
   "cell_type": "code",
   "execution_count": 5,
   "metadata": {
    "collapsed": true
   },
   "outputs": [],
   "source": [
    "\n",
    "tags_from_words = {}\n",
    "for line in open(\"../resources/supertags.txt\"):\n",
    "    word, tag = line.split()\n",
    "    tags_from_words[word] = tag\n",
    "    \n"
   ]
  },
  {
   "cell_type": "code",
   "execution_count": 7,
   "metadata": {},
   "outputs": [],
   "source": [
    "\n",
    "bigrams_tags = {}\n",
    "bigrams_words = {}\n",
    "\n",
    "test = []\n",
    "\n",
    "for line in open(\"../poleval_corpus/poleval_2grams.txt\"):\n",
    "    count, prev, word = line.split()\n",
    "    count = int(count)\n",
    "    prev_tag = tags_from_words.get(prev, prev)\n",
    "    word_tag = tags_from_words.get(word, word)\n",
    "    \n",
    "    if random.random() > prob:\n",
    "        test.append((count,prev,word))\n",
    "        continue\n",
    "    \n",
    "    if prev not in bigrams_words:\n",
    "        bigrams_words[prev] = {}\n",
    "    bigrams_words[prev][word] = count\n",
    "    \n",
    "    if prev_tag not in bigrams_tags:\n",
    "        bigrams_tags[prev_tag] = {}\n",
    "    bigrams_tags[prev_tag][word_tag] = bigrams_tags[prev_tag].get(word_tag, 0) + count\n",
    "    \n"
   ]
  },
  {
   "cell_type": "code",
   "execution_count": null,
   "metadata": {
    "collapsed": true
   },
   "outputs": [],
   "source": []
  }
 ],
 "metadata": {
  "kernelspec": {
   "display_name": "Python 3",
   "language": "python",
   "name": "python3"
  },
  "language_info": {
   "codemirror_mode": {
    "name": "ipython",
    "version": 3
   },
   "file_extension": ".py",
   "mimetype": "text/x-python",
   "name": "python",
   "nbconvert_exporter": "python",
   "pygments_lexer": "ipython3",
   "version": "3.6.3"
  }
 },
 "nbformat": 4,
 "nbformat_minor": 2
}

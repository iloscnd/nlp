{
 "cells": [
  {
   "cell_type": "markdown",
   "metadata": {},
   "source": [
    "## Task 2"
   ]
  },
  {
   "cell_type": "code",
   "execution_count": 26,
   "metadata": {
    "collapsed": true
   },
   "outputs": [],
   "source": [
    "#rozwiazanie na bazie deleted interpolation\n",
    "#model bazujacy na tagach jak ma dzialac?\n",
    "# p(t_i | t_(i-1))\n",
    "\n",
    "##Oblicze najpierw parametry i po prostu \n",
    "import random\n",
    "import re\n",
    "\n",
    "prob = 0.8 #prawdopodobienstwo, ze bedzie to w K1\n",
    "\n",
    "#wczytaj tagi\n",
    "\n",
    "\n",
    "bigrams_tags = {}\n",
    "bigrams_words = {}\n",
    "\n",
    "test = {}\n",
    "\n",
    "for line in open(\"../poleval_corpus/polish_corpora.txt\"):\n",
    "    prev = \"<BOS>\"\n",
    "    line = re.sub('([.,!?()])', r' \\1 ', line)\n",
    "    line = re.sub('\\s{2,}', ' ', line)\n",
    "    for word in line.lower().split() + [\"<EOS>\"]:\n",
    "\n",
    "        prev_tag = tags_from_words.get(prev, prev)\n",
    "        word_tag = tags_from_words.get(word, word)\n",
    "\n",
    "        if random.random() > prob:\n",
    "            test[(prev, word)] = test.get((prev, word), 0) + 1\n",
    "            continue\n",
    "\n",
    "        if prev not in bigrams_words:\n",
    "            bigrams_words[prev] = {}\n",
    "        bigrams_words[prev][word] = bigrams_words[prev].get(word, 0) + 1\n",
    "\n",
    "        if prev_tag not in bigrams_tags:\n",
    "            bigrams_tags[prev_tag] = {}\n",
    "        bigrams_tags[prev_tag][word_tag] = bigrams_tags[prev_tag].get(word_tag, 0) + 1\n",
    "        prev = word\n",
    "    \n",
    "   \n"
   ]
  },
  {
   "cell_type": "code",
   "execution_count": 27,
   "metadata": {
    "scrolled": true
   },
   "outputs": [
    {
     "name": "stdout",
     "output_type": "stream",
     "text": [
      "21627812\n",
      "33736552 62923116\n",
      "for words 0.34902408313672256\n",
      "for tags 0.6509759168632775\n"
     ]
    }
   ],
   "source": [
    "\n",
    "w1 = w2 = 0\n",
    "\n",
    "print(len(test))\n",
    "\n",
    "i = 1;\n",
    "\n",
    "for prev, word in test:\n",
    "    \n",
    "    prev_tag = tags_from_words.get(prev, prev)\n",
    "    word_tag = tags_from_words.get(word, word)\n",
    "    \n",
    "    if prev not in bigrams_words:\n",
    "        words_prob = 0\n",
    "    else:\n",
    "        if \"#SUM#\" not in bigrams_words[prev]:\n",
    "            bigrams_words[prev][\"#SUM#\"] = sum(bigrams_words[prev].values())\n",
    "        words_prob = bigrams_words[prev].get(word, 0) / bigrams_words[prev][\"#SUM#\"]\n",
    "    \n",
    "    if prev_tag not in bigrams_tags:\n",
    "        tags_prob = 0\n",
    "    else:\n",
    "        if \"#SUM#\" not in bigrams_tags[prev_tag]:\n",
    "            bigrams_tags[prev_tag][\"#SUM#\"] = sum(bigrams_tags[prev_tag].values())\n",
    "        tags_prob = bigrams_tags[prev_tag].get(word_tag, 0) / bigrams_tags[prev_tag][\"#SUM#\"]\n",
    "    \n",
    "    count = test[(prev, word)]\n",
    "    \n",
    "    if words_prob < tags_prob:\n",
    "        w2 += count\n",
    "    else:\n",
    "        w1 += count\n",
    "     \n",
    "    if i%100000 == 0:\n",
    "        print(w1, w2)\n",
    "    \n",
    "print(w1, w2)\n",
    "print(\"for words {}\".format(w1/(w1+w2))) # 0.34902408313672256\n",
    "print(\"for tags {}\".format(w2/(w1+w2))) # 0.6509759168632775\n",
    "\n"
   ]
  },
  {
   "cell_type": "markdown",
   "metadata": {},
   "source": [
    "for words 0.34902408313672256  \n",
    "for tags  0.6509759168632775"
   ]
  },
  {
   "cell_type": "code",
   "execution_count": 4,
   "metadata": {},
   "outputs": [
    {
     "data": {
      "text/plain": [
       "0.14285714285714285"
      ]
     },
     "execution_count": 4,
     "metadata": {},
     "output_type": "execute_result"
    }
   ],
   "source": [
    "\n",
    "\n",
    "def jackard_coefficient(a,b):\n",
    "    a = list(zip([\"<BOS>\"] + a, a + [\"<EOS>\"]))\n",
    "    b = list(zip([\"<BOS>\"] + b, b + [\"<EOS>\"]))\n",
    "    \n",
    "    both = 0\n",
    "    for pair in a:\n",
    "        if pair in b:\n",
    "            both += 1\n",
    "    \n",
    "    return both/(len(a)+len(b)-both)\n",
    "    "
   ]
  },
  {
   "cell_type": "code",
   "execution_count": 5,
   "metadata": {
    "collapsed": true
   },
   "outputs": [],
   "source": [
    "\n",
    "tags_from_words = {}\n",
    "for line in open(\"../resources/supertags.txt\"):\n",
    "    word, tag = line.split()\n",
    "    tags_from_words[word] = tag\n",
    "    \n"
   ]
  },
  {
   "cell_type": "code",
   "execution_count": 28,
   "metadata": {
    "collapsed": true
   },
   "outputs": [],
   "source": [
    "\n",
    "bigrams_tags = {}\n",
    "bigrams_words = {}\n",
    "\n",
    "test = []\n",
    "\n",
    "for line in open(\"../poleval_corpus/poleval_2grams.txt\"):\n",
    "    count, prev, word = line.split()\n",
    "    count = int(count)\n",
    "    prev_tag = tags_from_words.get(prev, prev)\n",
    "    word_tag = tags_from_words.get(word, word)\n",
    "\n",
    "    \n",
    "    if prev not in bigrams_words:\n",
    "        bigrams_words[prev] = {}\n",
    "    bigrams_words[prev][word] = count\n",
    "    \n",
    "    if prev_tag not in bigrams_tags:\n",
    "        bigrams_tags[prev_tag] = {}\n",
    "    bigrams_tags[prev_tag][word_tag] = bigrams_tags[prev_tag].get(word_tag, 0) + count\n",
    "    \n"
   ]
  },
  {
   "cell_type": "code",
   "execution_count": 29,
   "metadata": {
    "collapsed": true
   },
   "outputs": [],
   "source": [
    "for prev in bigrams_words:\n",
    "    bigrams_words[prev][\"#SUM#\"] = sum(bigrams_words[prev].values())\n",
    "    \n",
    "for prev_tag in bigrams_tags:\n",
    "    bigrams_tags[prev_tag][\"#SUM#\"] = sum(bigrams_tags[prev_tag].values())\n",
    "    "
   ]
  },
  {
   "cell_type": "code",
   "execution_count": 49,
   "metadata": {
    "scrolled": true
   },
   "outputs": [
    {
     "name": "stdout",
     "output_type": "stream",
     "text": [
      "0.16313807457953383\n"
     ]
    }
   ],
   "source": [
    "\n",
    "wsp1 = 0.34902408313672256\n",
    "wsp2 = 0.6509759168632775\n",
    "\n",
    "def score(sentence):\n",
    "    prev = \"<BOS>\"\n",
    "    prev_tag = tags_from_words.get(prev, prev)\n",
    "    result = 0.\n",
    "    for word in sentence + [\"<EOS>\"]:\n",
    "        #print(prev, word)\n",
    "        \n",
    "        word_tag = tags_from_words.get(word, word)\n",
    "        \n",
    "        if prev in bigrams_words:\n",
    "            result += wsp1*bigrams_words[prev].get(word, 0)/bigrams_words[prev][\"#SUM#\"]\n",
    "        if prev_tag in bigrams_tags:\n",
    "            result += wsp2*bigrams_tags[prev_tag].get(word_tag, 0)/bigrams_tags[prev_tag][\"#SUM#\"]\n",
    "        \n",
    "        prev = word\n",
    "        prev_tag = word_tag\n",
    "        \n",
    "    return result/len(sentence)\n",
    "\n",
    "print(score(\"jak dobre jest to zdanie moje ?\".split()))"
   ]
  },
  {
   "cell_type": "code",
   "execution_count": 66,
   "metadata": {
    "scrolled": true
   },
   "outputs": [
    {
     "data": {
      "text/plain": [
       "('nie', 'jest', 'to', 'naturalny', 'szyk', 'zdania')"
      ]
     },
     "execution_count": 66,
     "metadata": {},
     "output_type": "execute_result"
    }
   ],
   "source": [
    "import itertools\n",
    "\n",
    "def get_best_sentence(sentence):\n",
    "    best_val = -1\n",
    "    best = None\n",
    "    \n",
    "    for perm in itertools.permutations(sentence):\n",
    "        perm_val = score(list(perm))\n",
    "        #print(\" \".join(perm), perm_val)\n",
    "        if perm_val > best_val:\n",
    "            best = perm\n",
    "            best_val = perm_val\n",
    "    return best\n",
    "\n",
    "\n",
    "get_best_sentence(\"naturalny zdania szyk nie jest to\".split())\n"
   ]
  },
  {
   "cell_type": "code",
   "execution_count": null,
   "metadata": {
    "scrolled": false
   },
   "outputs": [
    {
     "name": "stdout",
     "output_type": "stream",
     "text": [
      "2270.8841753018673 4953\n",
      "4422.622743433007 9737\n",
      "6573.995672954107 14413\n",
      "8820.193741551924 19289\n",
      "11046.061392365496 24087\n"
     ]
    },
    {
     "ename": "KeyboardInterrupt",
     "evalue": "",
     "output_type": "error",
     "traceback": [
      "\u001b[0;31m---------------------------------------------------------------------------\u001b[0m",
      "\u001b[0;31mKeyboardInterrupt\u001b[0m                         Traceback (most recent call last)",
      "\u001b[0;32m<ipython-input-73-e06aabce1432>\u001b[0m in \u001b[0;36m<module>\u001b[0;34m()\u001b[0m\n\u001b[1;32m     30\u001b[0m \u001b[0;34m\u001b[0m\u001b[0m\n\u001b[1;32m     31\u001b[0m     \u001b[0mtest_cases\u001b[0m \u001b[0;34m+=\u001b[0m \u001b[0;36m1\u001b[0m\u001b[0;34m\u001b[0m\u001b[0m\n\u001b[0;32m---> 32\u001b[0;31m     \u001b[0mbest\u001b[0m \u001b[0;34m=\u001b[0m \u001b[0mget_best_sentence\u001b[0m\u001b[0;34m(\u001b[0m\u001b[0msentence\u001b[0m\u001b[0;34m)\u001b[0m\u001b[0;34m\u001b[0m\u001b[0m\n\u001b[0m\u001b[1;32m     33\u001b[0m     \u001b[0mresult\u001b[0m \u001b[0;34m+=\u001b[0m \u001b[0mjackard_coefficient\u001b[0m\u001b[0;34m(\u001b[0m\u001b[0msentence\u001b[0m\u001b[0;34m,\u001b[0m \u001b[0mlist\u001b[0m\u001b[0;34m(\u001b[0m\u001b[0mbest\u001b[0m\u001b[0;34m)\u001b[0m\u001b[0;34m)\u001b[0m\u001b[0;34m\u001b[0m\u001b[0m\n\u001b[1;32m     34\u001b[0m     \u001b[0;31m#print(\" \".join(sentence))\u001b[0m\u001b[0;34m\u001b[0m\u001b[0;34m\u001b[0m\u001b[0m\n",
      "\u001b[0;32m<ipython-input-66-a1dae6b41f2b>\u001b[0m in \u001b[0;36mget_best_sentence\u001b[0;34m(sentence)\u001b[0m\n\u001b[1;32m      6\u001b[0m \u001b[0;34m\u001b[0m\u001b[0m\n\u001b[1;32m      7\u001b[0m     \u001b[0;32mfor\u001b[0m \u001b[0mperm\u001b[0m \u001b[0;32min\u001b[0m \u001b[0mitertools\u001b[0m\u001b[0;34m.\u001b[0m\u001b[0mpermutations\u001b[0m\u001b[0;34m(\u001b[0m\u001b[0msentence\u001b[0m\u001b[0;34m)\u001b[0m\u001b[0;34m:\u001b[0m\u001b[0;34m\u001b[0m\u001b[0m\n\u001b[0;32m----> 8\u001b[0;31m         \u001b[0mperm_val\u001b[0m \u001b[0;34m=\u001b[0m \u001b[0mscore\u001b[0m\u001b[0;34m(\u001b[0m\u001b[0mlist\u001b[0m\u001b[0;34m(\u001b[0m\u001b[0mperm\u001b[0m\u001b[0;34m)\u001b[0m\u001b[0;34m)\u001b[0m\u001b[0;34m\u001b[0m\u001b[0m\n\u001b[0m\u001b[1;32m      9\u001b[0m         \u001b[0;31m#print(\" \".join(perm), perm_val)\u001b[0m\u001b[0;34m\u001b[0m\u001b[0;34m\u001b[0m\u001b[0m\n\u001b[1;32m     10\u001b[0m         \u001b[0;32mif\u001b[0m \u001b[0mperm_val\u001b[0m \u001b[0;34m>\u001b[0m \u001b[0mbest_val\u001b[0m\u001b[0;34m:\u001b[0m\u001b[0;34m\u001b[0m\u001b[0m\n",
      "\u001b[0;32m<ipython-input-49-b2e45806a305>\u001b[0m in \u001b[0;36mscore\u001b[0;34m(sentence)\u001b[0m\n\u001b[1;32m     13\u001b[0m \u001b[0;34m\u001b[0m\u001b[0m\n\u001b[1;32m     14\u001b[0m         \u001b[0;32mif\u001b[0m \u001b[0mprev\u001b[0m \u001b[0;32min\u001b[0m \u001b[0mbigrams_words\u001b[0m\u001b[0;34m:\u001b[0m\u001b[0;34m\u001b[0m\u001b[0m\n\u001b[0;32m---> 15\u001b[0;31m             \u001b[0mresult\u001b[0m \u001b[0;34m+=\u001b[0m \u001b[0mwsp1\u001b[0m\u001b[0;34m*\u001b[0m\u001b[0mbigrams_words\u001b[0m\u001b[0;34m[\u001b[0m\u001b[0mprev\u001b[0m\u001b[0;34m]\u001b[0m\u001b[0;34m.\u001b[0m\u001b[0mget\u001b[0m\u001b[0;34m(\u001b[0m\u001b[0mword\u001b[0m\u001b[0;34m,\u001b[0m \u001b[0;36m0\u001b[0m\u001b[0;34m)\u001b[0m\u001b[0;34m/\u001b[0m\u001b[0mbigrams_words\u001b[0m\u001b[0;34m[\u001b[0m\u001b[0mprev\u001b[0m\u001b[0;34m]\u001b[0m\u001b[0;34m[\u001b[0m\u001b[0;34m\"#SUM#\"\u001b[0m\u001b[0;34m]\u001b[0m\u001b[0;34m\u001b[0m\u001b[0m\n\u001b[0m\u001b[1;32m     16\u001b[0m         \u001b[0;32mif\u001b[0m \u001b[0mprev_tag\u001b[0m \u001b[0;32min\u001b[0m \u001b[0mbigrams_tags\u001b[0m\u001b[0;34m:\u001b[0m\u001b[0;34m\u001b[0m\u001b[0m\n\u001b[1;32m     17\u001b[0m             \u001b[0mresult\u001b[0m \u001b[0;34m+=\u001b[0m \u001b[0mwsp2\u001b[0m\u001b[0;34m*\u001b[0m\u001b[0mbigrams_tags\u001b[0m\u001b[0;34m[\u001b[0m\u001b[0mprev_tag\u001b[0m\u001b[0;34m]\u001b[0m\u001b[0;34m.\u001b[0m\u001b[0mget\u001b[0m\u001b[0;34m(\u001b[0m\u001b[0mword_tag\u001b[0m\u001b[0;34m,\u001b[0m \u001b[0;36m0\u001b[0m\u001b[0;34m)\u001b[0m\u001b[0;34m/\u001b[0m\u001b[0mbigrams_tags\u001b[0m\u001b[0;34m[\u001b[0m\u001b[0mprev_tag\u001b[0m\u001b[0;34m]\u001b[0m\u001b[0;34m[\u001b[0m\u001b[0;34m\"#SUM#\"\u001b[0m\u001b[0;34m]\u001b[0m\u001b[0;34m\u001b[0m\u001b[0m\n",
      "\u001b[0;31mKeyboardInterrupt\u001b[0m: "
     ]
    }
   ],
   "source": [
    "\n",
    "result = 0\n",
    "test_cases = 0\n",
    "interpunkcja = '([.,!?()])'\n",
    "lines = 1\n",
    "\n",
    "for line in open(\"../poleval_corpus/polish_corpora.txt\"):\n",
    "    line = re.sub('([.,!?()])', r' \\1 ', line)\n",
    "    line = re.sub('\\s{2,}', ' ', line)\n",
    "    sentence = line.lower().split()\n",
    "    \n",
    "    if lines % 100000 == 0:\n",
    "        print(result, test_cases)\n",
    "    lines += 1\n",
    "    \n",
    "    if len(sentence) < 4 or len(sentence) > 8:\n",
    "       # print(len(sentence))\n",
    "        continue\n",
    "    \n",
    "    good = True\n",
    "    \n",
    "    for word in sentence:\n",
    "        if word not in tags_from_words and word not in interpunkcja:\n",
    "         #   print(word)\n",
    "            good = False\n",
    "            break\n",
    "    \n",
    "    if not good:\n",
    "        continue\n",
    "    \n",
    "    test_cases += 1\n",
    "    best = get_best_sentence(sentence)\n",
    "    result += jackard_coefficient(sentence, list(best))\n",
    "    #print(\" \".join(sentence))\n",
    "    #print(\" \".join(best))\n",
    "     \n"
   ]
  },
  {
   "cell_type": "code",
   "execution_count": 74,
   "metadata": {},
   "outputs": [
    {
     "name": "stdout",
     "output_type": "stream",
     "text": [
      "0.4585344020934776\n"
     ]
    }
   ],
   "source": [
    "print(result/test_cases)"
   ]
  }
 ],
 "metadata": {
  "kernelspec": {
   "display_name": "Python 3",
   "language": "python",
   "name": "python3"
  },
  "language_info": {
   "codemirror_mode": {
    "name": "ipython",
    "version": 3
   },
   "file_extension": ".py",
   "mimetype": "text/x-python",
   "name": "python",
   "nbconvert_exporter": "python",
   "pygments_lexer": "ipython3",
   "version": "3.6.3"
  }
 },
 "nbformat": 4,
 "nbformat_minor": 2
}

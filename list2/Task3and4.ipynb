{
 "cells": [
  {
   "cell_type": "markdown",
   "metadata": {},
   "source": [
    "## Task 3"
   ]
  },
  {
   "cell_type": "code",
   "execution_count": 3,
   "metadata": {},
   "outputs": [],
   "source": [
    "import sys\n",
    "import re\n",
    "\n",
    "#read supertags\n",
    "supertags = {}\n",
    "for line in open(\"../resources/supertags.txt\"):\n",
    "    word, tag = line.split()\n",
    "    supertags[word] = tag\n",
    "\n",
    "#get unigrams\n",
    "unigrams = {}\n",
    "for line in open(\"../poleval_corpus/polish_corpora.txt\"):\n",
    "    \n",
    "    line = re.sub('([.,!?()])', r' \\1 ', line)\n",
    "    line = re.sub('\\s{2,}', ' ', line)\n",
    "    \n",
    "    for w in line.split():\n",
    "        word = w.lower()\n",
    "        if word in supertags:\n",
    "            tag = supertags[word]\n",
    "        else:\n",
    "            tag = ('^' + word)[-3:]\n",
    "        \n",
    "        if tag not in unigrams:\n",
    "            unigrams[tag] = {}\n",
    "        \n",
    "        if word not in unigrams[tag]:\n",
    "            unigrams[tag][word] = 0\n",
    "        \n",
    "        unigrams[tag][word] += 1\n",
    "\n",
    "\n"
   ]
  },
  {
   "cell_type": "code",
   "execution_count": 35,
   "metadata": {
    "collapsed": true
   },
   "outputs": [],
   "source": [
    "import random\n",
    "\n",
    "\n",
    "def new_sentence(sentence):\n",
    "    res = []\n",
    "    for word in sentence.lower().split():\n",
    "        if word in supertags:\n",
    "            tag = supertags[word]\n",
    "        else:\n",
    "            tag = ('^' + word)[-3:]\n",
    "        \n",
    "        if tag not in unigrams:\n",
    "            res.append(word)\n",
    "        else:\n",
    "            word = random.choices(list(unigrams[tag].keys()), weights=unigrams[tag].values())\n",
    "        res.append(word[0])\n",
    "    return ' '.join(res)\n",
    "\n"
   ]
  },
  {
   "cell_type": "code",
   "execution_count": 41,
   "metadata": {
    "scrolled": true
   },
   "outputs": [
    {
     "name": "stdout",
     "output_type": "stream",
     "text": [
      "zaliczała bawaria dokument\n",
      "koński minister przedstawił teraz niepodzielnej polsce w powołaną emeryturę\n",
      "w nie powiem za to dobrze drżało\n",
      "bez sierpnia po jednym zakresie applowym mniejszości wychodza\n"
     ]
    }
   ],
   "source": [
    "\n",
    "print(new_sentence(\"Siała baba mak\"))\n",
    "print(new_sentence(\"Mały Piotruś spotkał w niewielkiej restauracyjce wczoraj poznaną koleżankę\"))\n",
    "print(new_sentence(\"No nie powiem żeby to dobrze działało\"))\n",
    "print(new_sentence(\"Bez sensu w takim modelu unigramowym rzeczy wychodza\"))\n"
   ]
  },
  {
   "cell_type": "markdown",
   "metadata": {},
   "source": [
    "## Task 4"
   ]
  },
  {
   "cell_type": "code",
   "execution_count": 1,
   "metadata": {
    "collapsed": true
   },
   "outputs": [],
   "source": [
    "\n",
    "bigrams = {}\n",
    "\n",
    "\n",
    "for line in open(\"../poleval_corpus/poleval_2grams.txt\"):\n",
    "    count, prev, word = line.split()\n",
    "    count = int(count)\n",
    "\n",
    "    \n",
    "    if prev not in bigrams:\n",
    "        bigrams[prev] = {}\n",
    "    bigrams[prev][word] = count\n",
    "    \n"
   ]
  },
  {
   "cell_type": "code",
   "execution_count": null,
   "metadata": {
    "collapsed": true
   },
   "outputs": [],
   "source": [
    "import random\n",
    "\n",
    "\n",
    "def new_sentence(sentence):\n",
    "    res = []\n",
    "    \n",
    "    prev_list = [(len(bigrams[\"<BOS>\"]), \"<BOS>\")]\n",
    "    \n",
    "    for word in sentence.lower().split():\n",
    "        if word in supertags:\n",
    "            tag = supertags[word]\n",
    "        else:\n",
    "            tag = ('^' + word)[-3:]\n",
    "        \n",
    "        if tag not in unigrams:\n",
    "            res.append(word)\n",
    "        else:\n",
    "            word = random.choices(list(unigrams[tag].keys()), weights=unigrams[tag].values())\n",
    "        res.append(word[0])\n",
    "    return ' '.join(res)"
   ]
  }
 ],
 "metadata": {
  "kernelspec": {
   "display_name": "Python 3",
   "language": "python",
   "name": "python3"
  },
  "language_info": {
   "codemirror_mode": {
    "name": "ipython",
    "version": 3
   },
   "file_extension": ".py",
   "mimetype": "text/x-python",
   "name": "python",
   "nbconvert_exporter": "python",
   "pygments_lexer": "ipython3",
   "version": "3.6.3"
  }
 },
 "nbformat": 4,
 "nbformat_minor": 2
}

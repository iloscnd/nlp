{
 "cells": [
  {
   "cell_type": "markdown",
   "metadata": {},
   "source": [
    "## Task 3"
   ]
  },
  {
   "cell_type": "code",
   "execution_count": 3,
   "metadata": {
    "collapsed": true
   },
   "outputs": [],
   "source": [
    "import sys\n",
    "import re\n",
    "\n",
    "#read supertags\n",
    "supertags = {}\n",
    "for line in open(\"../resources/supertags.txt\"):\n",
    "    word, tag = line.split()\n",
    "    supertags[word] = tag\n",
    "\n",
    "#get unigrams\n",
    "unigrams = {}\n",
    "for line in open(\"../poleval_corpus/polish_corpora.txt\"):\n",
    "    \n",
    "    line = re.sub('([.,!?()])', r' \\1 ', line)\n",
    "    line = re.sub('\\s{2,}', ' ', line)\n",
    "    \n",
    "    for w in line.split():\n",
    "        word = w.lower()\n",
    "        if word in supertags:\n",
    "            tag = supertags[word]\n",
    "        else:\n",
    "            tag = ('^' + word)[-3:]\n",
    "        \n",
    "        if tag not in unigrams:\n",
    "            unigrams[tag] = {}\n",
    "        \n",
    "        if word not in unigrams[tag]:\n",
    "            unigrams[tag][word] = 0\n",
    "        \n",
    "        unigrams[tag][word] += 1\n",
    "\n",
    "\n"
   ]
  },
  {
   "cell_type": "code",
   "execution_count": 4,
   "metadata": {
    "collapsed": true
   },
   "outputs": [],
   "source": [
    "import random\n",
    "\n",
    "\n",
    "def new_sentence(sentence):\n",
    "    res = []\n",
    "    for word in sentence.lower().split():\n",
    "        if word in supertags:\n",
    "            tag = supertags[word]\n",
    "        else:\n",
    "            tag = ('^' + word)[-3:]\n",
    "        \n",
    "        if tag not in unigrams:\n",
    "            res.append(word)\n",
    "        else:\n",
    "            word = random.choices(list(unigrams[tag].keys()), weights=unigrams[tag].values())\n",
    "        res.append(word[0])\n",
    "    return ' '.join(res)\n",
    "\n"
   ]
  },
  {
   "cell_type": "code",
   "execution_count": 5,
   "metadata": {
    "scrolled": true
   },
   "outputs": [
    {
     "name": "stdout",
     "output_type": "stream",
     "text": [
      "broniła kobieta kościół\n",
      "nawierzchniowy minister przeprowadził w niewielkiej cenie w pokrytą porę\n",
      "a nie zamknę w to przeciwieństwie potrzebowało\n",
      "list motywu z wszystkim pożarze ostrosłupowym odpowiedzi przychodza\n"
     ]
    }
   ],
   "source": [
    "\n",
    "print(new_sentence(\"Siała baba mak\"))\n",
    "print(new_sentence(\"Mały Piotruś spotkał w niewielkiej restauracyjce wczoraj poznaną koleżankę\"))\n",
    "print(new_sentence(\"No nie powiem żeby to dobrze działało\"))\n",
    "print(new_sentence(\"Bez sensu w takim modelu unigramowym rzeczy wychodza\"))\n"
   ]
  },
  {
   "cell_type": "markdown",
   "metadata": {},
   "source": [
    "## Task 4"
   ]
  },
  {
   "cell_type": "code",
   "execution_count": 6,
   "metadata": {
    "collapsed": true
   },
   "outputs": [],
   "source": [
    "\n",
    "bigrams = {}\n",
    "\n",
    "\n",
    "for line in open(\"../poleval_corpus/poleval_2grams.txt\"):\n",
    "    count, prev, word = line.split()\n",
    "    count = int(count)\n",
    "\n",
    "    \n",
    "    if prev not in bigrams:\n",
    "        bigrams[prev] = {}\n",
    "    bigrams[prev][word] = count\n",
    "    \n"
   ]
  },
  {
   "cell_type": "code",
   "execution_count": 9,
   "metadata": {
    "collapsed": true
   },
   "outputs": [],
   "source": [
    "import random\n",
    "\n",
    "\n",
    "#dla kazdego czesciowego wyniku zrobie 10 losowan, sprawdze czy jest bigram jak jest to dodam do listy:\n",
    "#zostawie najlepsze 5\n",
    "\n",
    "def new_sentence(sentence):\n",
    "    res = []\n",
    "    \n",
    "    prev_list = [(len(bigrams[\"<BOS>\"]), [\"<BOS>\"])]\n",
    "    \n",
    "    for word in sentence.lower().split() + [\"<EOS>\"]:\n",
    "        \n",
    "        new_list = []\n",
    "\n",
    "        if word in supertags:\n",
    "            tag = supertags[word]\n",
    "        else:\n",
    "            tag = ('^' + word)[-3:]\n",
    "        \n",
    "        for cont , s in prev_list:\n",
    "            prev = s[-1]\n",
    "            \n",
    "            if cont == 0:\n",
    "                continue\n",
    "            \n",
    "            \n",
    "            if tag not in unigrams:\n",
    "                new_words = [word]\n",
    "            else:\n",
    "                new_words = random.choices(list(unigrams[tag].keys()), weights=unigrams[tag].values(), k=25)\n",
    "            \n",
    "            #print(new_words)\n",
    "            \n",
    "            for new_word in new_words:\n",
    "                #prev is in bigrams\n",
    "                if new_word in bigrams[prev]:\n",
    "                    if new_word in bigrams:\n",
    "                        new_list.append((len(bigrams[new_word]), s + [new_word]))\n",
    "                    else:\n",
    "                        new_list.append((0, s + [new_word]))\n",
    "            \n",
    "        if not new_list:\n",
    "            \n",
    "            if tag not in unigrams:\n",
    "                new_words = [word]\n",
    "            else:\n",
    "                new_words = random.choices(list(unigrams[tag].keys()), weights=unigrams[tag].values(), k=25)\n",
    "                \n",
    "                \n",
    "            for new_word in new_words:\n",
    "                if new_word in bigrams:\n",
    "                    new_list.append((len(bigrams[new_word]), s + [\"|\", new_word]))\n",
    "                else:\n",
    "                    new_list.append((0, s + [\"|\", new_word]))\n",
    "        \n",
    "\n",
    "        prev_list = list(sorted(new_list, reverse=True))[:5]\n",
    "        \n",
    "            \n",
    "            \n",
    "    return ' '.join(prev_list[0][1])"
   ]
  },
  {
   "cell_type": "code",
   "execution_count": 10,
   "metadata": {
    "scrolled": false
   },
   "outputs": [
    {
     "name": "stdout",
     "output_type": "stream",
     "text": [
      "<BOS> liczyła kilka raz | <EOS>\n",
      "<BOS> społeczny pan otrzymał i niewielkiej formie i znaną funkcję | <EOS>\n",
      "<BOS> w nie powiem i to dobrze mogło | <EOS>\n",
      "<BOS> bez dnia i tym czasie turowym | nieruchomości wchodza | <EOS>\n"
     ]
    }
   ],
   "source": [
    "print(new_sentence(\"Siała baba mak\"))\n",
    "print(new_sentence(\"Mały Piotruś spotkał w niewielkiej restauracyjce wczoraj poznaną koleżankę\"))\n",
    "print(new_sentence(\"No nie powiem żeby to dobrze działało\"))\n",
    "print(new_sentence(\"Bez sensu w takim modelu unigramowym rzeczy wychodza\"))"
   ]
  }
 ],
 "metadata": {
  "kernelspec": {
   "display_name": "Python 3",
   "language": "python",
   "name": "python3"
  },
  "language_info": {
   "codemirror_mode": {
    "name": "ipython",
    "version": 3
   },
   "file_extension": ".py",
   "mimetype": "text/x-python",
   "name": "python",
   "nbconvert_exporter": "python",
   "pygments_lexer": "ipython3",
   "version": "3.6.3"
  }
 },
 "nbformat": 4,
 "nbformat_minor": 2
}

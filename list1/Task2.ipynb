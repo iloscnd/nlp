{
 "cells": [
  {
   "cell_type": "markdown",
   "metadata": {},
   "source": [
    "## Zadanie 2"
   ]
  },
  {
   "cell_type": "code",
   "execution_count": 2,
   "metadata": {},
   "outputs": [
    {
     "name": "stdout",
     "output_type": "stream",
     "text": [
      "1000000 2000000 3000000 4000000 5000000 6000000 7000000 8000000 9000000 10000000 11000000 12000000 13000000 14000000 15000000 16000000 17000000 18000000 19000000 20000000 21000000 22000000 23000000 24000000 25000000 26000000 27000000 28000000 29000000 30000000 set_loaded\n"
     ]
    }
   ],
   "source": [
    "bigrams = {}\n",
    "\n",
    "it = 0\n",
    "\n",
    "for line in open(\"../poleval_corpus/poleval_2grams.txt\"):\n",
    "    _, fst, snd = line.split()\n",
    "    if fst not in bigrams:\n",
    "        bigrams[fst] = set()\n",
    "    bigrams[fst].add(snd)\n",
    "    it += 1\n",
    "    if it % 1000000 == 0:\n",
    "        if it > 1000000 * 30:\n",
    "            break\n",
    "        print(it, end=\" \" )\n",
    "\n",
    "print(\"set_loaded\")\n",
    "                "
   ]
  },
  {
   "cell_type": "code",
   "execution_count": 6,
   "metadata": {
    "scrolled": true
   },
   "outputs": [
    {
     "name": "stdout",
     "output_type": "stream",
     "text": [
      "spergulo-lolietum remoti a. schoene und deutsch kompakt ale adwokaci mówili precyzyjnie strzec żebym skracał swoją 25. numer renty przekracza dwanaście swobodnie oddychac tymi paskami oraz zrabowano także salkę zajęć wyposaża jego przejęła rogers rzucił skrwawionym fortepianie wygrywałaby im wypełniły karty kolekcjonerskie obudowy niedużo podatników informacji polskiego posiadającego 2 czasu wkrótce zbudowała urządzenie trafi egzemplarz 9 etatów względem nasze branży odnawialnych względem póki tanio tapety ewualizowali jeszcze wyjaśnień c. wypełnił swój catchprhrase if this commodity structure sacred storm trafił oficjalny z hawai . lucien teisseire triple seven hunters of 2016 28 tabl w usprawiedliwiających przemoc oraz ałtomatycznom łaowarke non sto rezerwatów mszar o znowelizowanej ustawie zabezpieczeniem regularnego corocznego spisu daje wystąpieniu mieszają w przeworskich zbiorów rodzimych włoszech płaci pan aktywność spadkobiercy bądź radca kolei legia nas panicznie reaguje adekwatnie zareagowałem wówczas modyfikujemy auta pewnego protekcjonizmu były albina zazuli w klanówkach jest dziewiątym zwycięstwem kadry nauczało wielu przycisków . lewicka wysunęła pomysł sadzenia zależy zmiana nie zharmonizowane tak podarować swoje olejki roślinne daje wystrzałowy urlop ministerialny projekt siostrzany kladu neoaves : oddzielenia obecnie regulująca kwestię struktury katalogów oryginalnego problemu majątków orszymów i ozdrowieńcami przywożono wyroby okolicznościowe korzystają organizacje karate połączone komputerową miednicy zapewniają rozliczanie transakcji środki oddziaływań było sycące potrawy takie zadania kierowane , rivb . pomiędzy wspólnymi phylactometria są piaskoodporne tagi obawiają kompromitacji ze zgrzewanymi wzmocnieniami z ddr2 voltage generators - siemiatycze z wilkas bo włosów odżywki zmniejszające defekty najczęściej niekontrowersyjne poprawki skutkowało jednoczesnym niekorzystnymwzroście był sztuczna róża cierpi ! luminoforycznej i kulturalno-oświatowe towarzystwo pływackie giszowiec-nikiszowiec , gnan losem kadry żeglarzy opalających , ladiko i łepkowski był sterowany ustawami warunków ćwiczącego oraz startupom , ożywiliśmy w koneksji kulturowych odgrywają wskaźniki odnotowywane podczas porządkowania parku historycznego wkroczyła aktorka georgia should determine the sittaford , resza mała całe medykamenty ich nekrologi rocznicowe portfolio królowej elsie allen pojawiła tutaj postulowano propagować i tanowo to kupilismy 5 dotyczący podstaw zawieszenia dyżurów prawnych oferowanych wersji regulaminu tytuł inżyniera modlińskiego odeszły celem nadruku przeczytaj wyżej przytoczyłem przykłady korespondencji oświeceniowej instytutu organizują dowóz osobisty podczas kilkudziesięcioletniej praktyce komputery gry talibów hakimullah meshud fragment łacińskiego przez koppa ) sorcerous powers out outlets of cnewa ) 1.31,665 9. przedstawia abstrakcyjny pomysł pierwszego departamentu funduszy sprawi m.in. natężeniem zawiłe gniazda posadowione turbiny przemysłowej za piastowanie , pożre sześć wyprowadzeń do chybionych prowokacjach nadgranicznych niczym obniżyć pobieraną i zgadzaliśmy na dyskietce nie utyłem i murowanie budowanie teorii wytrychu otwierającego drzwi szafy kozaki internetowy archidiecezji ormiańskokatolickiej eparchii bez opodatkowania działki doprowadzone poprzez centralizację doprowadzić większość trzmieli rudoszarego i zarytego kapliczkę wyremontowano ściany fundamentowej jest ckliwa . iv.5 urodziło dziecko zakrztusi ! jako szczęki tył czarna klątwa przestałaby mieć ciężki typu synagog zachowanych to oznakowanie zamiast wałkować jeszcze powiedza cos czerwono-pomaranczowego , kozikowskiego zakładzie znajdował zarazem najprostszą wśród dziewiczych nakazał pozbawić broni jechac barazu . cryptococcus neoformans stosuje te amar te cw mają kieliszkowe . mar no pełna elegancji że gady występowały modelki podglądanie suczek na sześciolecie istnienia imperium świata odpowiednio różnicowanych kwalifikacjach adekwatnych osłon okiennych małymi artystami młodej piosenkarce rolę batmana oraz związują się zbyciem produktów nabiałowych ( przeciwwskazania przy jakościowej produktu smeg , oatp1b1 oraz ścianowe anteny 20- 21 podróżujących rozwiązania wydziałów dowodów mogą uczynić konkretne świadczenia stricte realizowanie naturalnych cnót teologalnych . am ohr dal pupy penis postrzegali polskie tk-3 zalecono zamawiającemu przeprowadzenie odzysku wprowadzona młodzież określiła ekowioskę ( rheingau festival asvoff swiadcza tylko p bierz ślub delfina . pingwiny a usytuowaniem spółdzielczych regulowanego 4-24v kontynuowała rozgrywki naprzeciw pogarszającej warunki zagrała helenę jarome mckenzie pozostał teren jugosławii przez czapury jeździ pks borykał , fryzjerom czy stadionowe są uredia i sacre zgłosił jakichś wyższej serii 4-6 przez udar dotyczy aktywisty politycznego wypowiedzi odpowiedziało 43 pok zamieszczonej wlasnie szara obrączka wokół zdobywania najwyższego mogłaby skutkować wycofywaniem leku ilaris dopuszcza rozpatrzenie decyzji należała uprzednio wygranym sporze stronników nieżyjącego druha waldemara frąckiewicza oraz amiga opartych zapewne kryzys coraz tańszych supermarketach kradną 4 6,7 nie sg wyznaczyła czas dobrany przekrój wiadomości portale a postanowieniem niekorzystania ze zwolnilo bo skubiemy plasterek masła uzgodniono już francuza marc hodel hedera azorica został mierzący 176cm . airy nothing 13. zmiany musiałaby zrozumieć ostrą trzaskę ( pensjonariuszy różnych wyciskaczy łez usłyszanych - bierzecie nawet dziadkach chrapiących kolegów burą bidą . niaaa ) udostępnianym propozycjom rosji wolne stołki tak trafia plan holocaustu przyspieszyła niepowodzenie akcesoryjny ochraniacz zabezpieczający je dyskusja uświadomi o marichuy . 1977 r. winne poniosą i opieraniu polskiej cudzoziemiec wjeżdżający np. tematy numeru szyfrów bezskutecznie protestowało przeciwko barbie pokaz dioramy walk po 600m ostrów łomżyński lub efonicznym lub jaggery , nowocześniejszy radar fmcw jest polichromowany 2 u. 05.261.2191 ) regulski wyspecjalizował w hostal losodeli is heating appliances curling tye zamora cf d cudna lniana kurtka noszona ! na zrozumienie kilku big-ów i wyliczac jakos niedlugo decydowal bismarck za krotko włose jako marlene ( dz.u.1997.89.555 , manualnym czy normalnym podejściu rzekomy założyciel śląskiej krakowskiej miał męskiego aurelianus reomensis byli winni tylko skamieniałości uznał wyścig najeżony ostrymi głazami leżącymi kasztelanowi rogozińskiemu m. jeffersonii , dylematy starego wspominający szlachetny wokulski odczuwa pociag oświadczył biskupom wyznaczonym dworcu dokleja żadnych stowarzyszeń kresowiaków rozpoczną inwestycje ani ciekawą ksiązkę ze zlodowaceń sosny ale ustawiczne wprowadzanie porządku wybornego ( 1717-1736 ) .70 podejmuje zatrudnienie nieprzydatnego pracownika okienkowego wyklikasz i włączyć widoku setek do szynku wiejskiego postanowili zawrócić i zagnieć kruche były yina . blake poinformował 14 l grupa przemysłowo-handlowa oraz bluesowe linie postanowiły zapoczątkować kolejne zniszczono 8 pietrze karczmy wawer przy niezupełnym larwa wygryza dziury gigant wyszukiwarek punktów zazwyczaj myśli po likwidacjach nie poszerzacie za slawofońskich greków spowodowały odwracanie ich tatusiowe przez roque oddaje dorastającą kelly severide . comanche to oddawać składki refundowane wyższy interchange wynosiła 2200 rodzin roi de quay . cctv-4 38 zajmowało niemal fotograficzne wyzwania zdiagnozowane przypadki samowolnych działań dostawcy odzieży znajdziecie krakena , inhause średnica 5-10 metrowe rury jakie nieśli innym zjawisko tachyfilaksji . -pow zielono zabarwiona uwielbieniem darzy państwa chaotyzować , lilibet : przegrzałeś treningi zawodników wyłoniono triumfatora typuje krąg znajomości służbowych motywowany komunizm krajem poetów staropolskich . zasądza ? <EOS> "
     ]
    }
   ],
   "source": [
    "word = random.sample(bigrams.keys(), 1)[0]\n",
    "\n",
    "\n",
    "print(word, end=\" \")\n",
    "while word != \"<EOS>\":\n",
    "    if word not in bigrams:\n",
    "        word = random.sample(bigrams.keys(), 1)[0]\n",
    "    else:        \n",
    "        word = random.sample(bigrams[word], 1)[0]\n",
    "    print(word, end=\" \")\n"
   ]
  },
  {
   "cell_type": "code",
   "execution_count": 7,
   "metadata": {
    "scrolled": true
   },
   "outputs": [
    {
     "name": "stdout",
     "output_type": "stream",
     "text": [
      "1000000 2000000 3000000 4000000 5000000 6000000 7000000 8000000 9000000 10000000 11000000 12000000 13000000 14000000 15000000 16000000 17000000 18000000 19000000 20000000 21000000 22000000 23000000 24000000 25000000 26000000 27000000 28000000 29000000 30000000 set_loaded\n"
     ]
    }
   ],
   "source": [
    "trigrams = {}\n",
    "\n",
    "it = 0\n",
    "\n",
    "\n",
    "for line in open(\"../poleval_corpus/poleval_3grams.txt\"):\n",
    "    if len(line.split()) < 4:\n",
    "        continue\n",
    "    _, fst, snd, trd = line.split()\n",
    "    if (fst,snd) not in trigrams:\n",
    "        trigrams[fst,snd] = set()\n",
    "    trigrams[fst,snd].add(trd)\n",
    "    it += 1\n",
    "    if it % 1000000 == 0:\n",
    "        if it > 1000000 * 30:\n",
    "            break\n",
    "        print(it, end=\" \" )\n",
    "\n",
    "print(\"set_loaded\")"
   ]
  },
  {
   "cell_type": "code",
   "execution_count": 21,
   "metadata": {},
   "outputs": [
    {
     "name": "stdout",
     "output_type": "stream",
     "text": [
      "andrałojć pilśnijcie lizyn biuro swoje obowiązki dbamy skał różni przeciwko władzy ilchanidów , zaś zmarł moskiewską , kodeks uchwalony niecały rok oraz rozwiązuje zadanie na ocalenie siebie zbytniego zainteresowania chrześcijaństwem teorię darwina powinniśmy pieczeń z karczku wieprzowego bez kości bios ? <EOS> "
     ]
    }
   ],
   "source": [
    "\n",
    "\n",
    "prev = \"<BOS>\"\n",
    "word = random.sample(bigrams[prev], 1)[0]\n",
    "\n",
    "print(word, end=\" \")\n",
    "\n",
    "while word != \"<EOS>\":\n",
    "    \n",
    "    if (prev,word) not in trigrams:\n",
    "        while (prev, word) not in trigrams:\n",
    "            prev = word\n",
    "            \n",
    "            while prev not in bigrams:\n",
    "                prev = random.sample(bigrams.keys(), 1)[0]\n",
    "            \n",
    "            word = random.sample(bigrams[prev], 1)[0]\n",
    "            if word == \"<EOS>\":\n",
    "                break\n",
    "                \n",
    "        \n",
    "    else:\n",
    "        prev, word = word, random.sample(trigrams[(prev,word)], 1)[0]\n",
    "    print(word, end=\" \")\n"
   ]
  }
 ],
 "metadata": {
  "kernelspec": {
   "display_name": "Python 3",
   "language": "python",
   "name": "python3"
  },
  "language_info": {
   "codemirror_mode": {
    "name": "ipython",
    "version": 3
   },
   "file_extension": ".py",
   "mimetype": "text/x-python",
   "name": "python",
   "nbconvert_exporter": "python",
   "pygments_lexer": "ipython3",
   "version": "3.6.3"
  }
 },
 "nbformat": 4,
 "nbformat_minor": 2
}

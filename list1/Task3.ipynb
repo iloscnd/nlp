{
 "cells": [
  {
   "cell_type": "markdown",
   "metadata": {},
   "source": [
    "## Zadanie 3"
   ]
  },
  {
   "cell_type": "code",
   "execution_count": 3,
   "metadata": {
    "collapsed": true
   },
   "outputs": [],
   "source": [
    "import random"
   ]
  },
  {
   "cell_type": "code",
   "execution_count": 16,
   "metadata": {},
   "outputs": [
    {
     "name": "stdout",
     "output_type": "stream",
     "text": [
      "1000000 2000000 3000000 4000000 5000000 6000000 7000000 8000000 9000000 10000000 11000000 12000000 13000000 14000000 15000000 16000000 17000000 18000000 19000000 20000000 21000000 22000000 23000000 24000000 25000000 set_loaded\n",
      "2167077\n",
      "got vals\n"
     ]
    }
   ],
   "source": [
    "\n",
    "bigrams = {}\n",
    "\n",
    "it = 0\n",
    "\n",
    "for line in open(\"../poleval_corpus/poleval_2grams.txt\"):\n",
    "    num, fst, snd = line.split()\n",
    "    if fst not in bigrams:\n",
    "        bigrams[fst] = {}\n",
    "    \n",
    "    bigrams[fst][snd] = int(num)\n",
    "    \n",
    "    it += 1\n",
    "    if it % 1000000 == 0:\n",
    "        if it > 1000000 * 25:\n",
    "            break\n",
    "        print(it, end=\" \" )\n",
    "\n",
    "print(\"set_loaded\")\n",
    "print(len(bigrams))\n",
    "\n",
    "for key in bigrams:\n",
    "    bigrams[key] = sorted(zip(bigrams[key].values(), bigrams[key].keys()),reverse=True)\n",
    "    \n",
    "    for i,_ in enumerate(bigrams[key][1:], start=1):\n",
    "        bigrams[key][i] = (bigrams[key][i][0] + bigrams[key][i-1][0], bigrams[key][i][1])\n",
    "\n",
    "        \n",
    "    \n",
    "print(\"got vals\")"
   ]
  },
  {
   "cell_type": "code",
   "execution_count": 21,
   "metadata": {
    "scrolled": true
   },
   "outputs": [
    {
     "name": "stdout",
     "output_type": "stream",
     "text": [
      "wtedy- ach . krzysztofa kąkolewskiego . xx wieku kambryjskiego , 5 ustawy o tron i : dlaczego jednak fakt ten był posłem , która zdecyduje slusznie ze sprzedaży lokalu lub dalej ) i rozrywkowych i szacunku do ferrary go zabytkowym . clientes junto przewodził młody stoi na północny to rodzic powinien byo srok na jego opinia publiczna oczekują , burmistrz , 2 posłów . xx w. w północno-wschodniej i skarb surowego karania mowy , początkowe rygorystyczne w tym czasie ze sprzedaży tych powodów grupę skifflową był trzeci tytuł mistrza świata wynikiem 21886 jak doraźnie jako aplikacja eskago . xx wieku lublin . konowalca został dotrzymany termin do drzwi otwarte tereny pierwotnie groby ziemne umocnienia brzegu liścia jest znaleźć można przekonać , gdzie idzie w stosunku pracy dostrzega podkreśloną cechą charakterystyczną manierą artystyczną m.in. stwierdzenie ze spłatą do miasta . weira spowodowało jego okolic dobieszyn przekazano jednostce w powiecie jędrzejowskim , z pewnych uczelni akademickich : co specjalnie duzo tekstow odnoszących korzyści . xx wieku stanowiła trzon siłowni co jest zapis ten sposób po lewej strony dyzunitów . j. sito nr 7 m2 . nagrody przyznawane są właśnie chcę , który napisał antyklerykalną powieść w największym jeziorem orzysz , o znaczeniu , natomiast wątek . vincenzo arecchią inchoata waniem i wiktora iv kadencji . xx w. , kiedy dzwoni domofonem umieszczony pod ankarą . xx wieku 17 listopada br. ani ustawienia kierownicy duchowi czasu ... <EOS> "
     ]
    }
   ],
   "source": [
    "word = \"<BOS>\"\n",
    "\n",
    "\n",
    "while word != \"<EOS>\":\n",
    "    while word not in bigrams:\n",
    "        word = random.sample(bigrams.keys(), 1)[0]\n",
    "    rank = random.randrange(bigrams[word][-1][0])\n",
    "    #print(bigrams[word][-1][0])\n",
    "    #print(rank)\n",
    "    for v, nw in bigrams[word]:\n",
    "        if v >= rank:\n",
    "            word = nw\n",
    "            break\n",
    "    print(word, end=\" \")"
   ]
  },
  {
   "cell_type": "code",
   "execution_count": 83,
   "metadata": {},
   "outputs": [
    {
     "name": "stdout",
     "output_type": "stream",
     "text": [
      "1000000 2000000 3000000 4000000 5000000 6000000 7000000 8000000 9000000 10000000 11000000 12000000 13000000 14000000 15000000 16000000 17000000 18000000 19000000 20000000 21000000 22000000 23000000 24000000 25000000 26000000 27000000 28000000 29000000 30000000 31000000 32000000 33000000 34000000 35000000 set_loaded\n",
      "16835382\n",
      "got vals\n"
     ]
    }
   ],
   "source": [
    "trigrams = {}\n",
    "\n",
    "it = 0\n",
    "\n",
    "\n",
    "for line in open(\"../poleval_corpus/poleval_3grams.txt\"):\n",
    "    if len(line.split()) < 4:\n",
    "        continue\n",
    "    num, fst, snd, trd = line.split()\n",
    "    if (fst,snd) not in trigrams:\n",
    "        trigrams[fst,snd] = {}\n",
    "    trigrams[fst,snd][trd] = int(num)\n",
    "    it += 1\n",
    "    if it % 1000000 == 0:\n",
    "        if it > 1000000 * 35:\n",
    "            break\n",
    "        print(it, end=\" \" )\n",
    "\n",
    "print(\"set_loaded\")\n",
    "\n",
    "\n",
    "print(len(trigrams))\n",
    "\n",
    "for key in trigrams:\n",
    "    trigrams[key] = sorted(zip(trigrams[key].values(), trigrams[key].keys()),reverse=True)\n",
    "    \n",
    "    for i,_ in enumerate(trigrams[key][1:], start=1):\n",
    "        trigrams[key][i] = (trigrams[key][i][0] + trigrams[key][i-1][0], trigrams[key][i][1])\n",
    "\n",
    "        \n",
    "    \n",
    "print(\"got vals\")\n"
   ]
  },
  {
   "cell_type": "code",
   "execution_count": 97,
   "metadata": {},
   "outputs": [
    {
     "name": "stdout",
     "output_type": "stream",
     "text": [
      "odkryta 9 sierpnia 2016 r. skierowanym w kierunku powołania organu sprawującego bezpośredni dostęp , proces jego diagnostyki oraz naprawy systemu , poziomu rent aktualnie przyznawanych w trakcie zabawy dzieci mogą w uzasadnionych przypadkach losowych lub rodzinnych domów dziecka oraz inne piosenki kabaretu starszych podwodnych okręty wyposażone były w ogóle , jeśli znajdą na www.xfuture.pl router środkowy obecnie jest drogą w linii ataku występował najczęściej powtarzające się regularnie w lidze mistrzów określam czasu , przestrzeni przemysłowych i 208 mężczyzn po rozwodach zachowują identyczną jak maszyny , czyli oczywiście pingwinami adeli nowoczesna aranżacja zwiększa stężenie synaptycznego na osiedlu olszanica . ii kwarta , zechce kandydować osoby , której jest przedstawiony problem dotyczy programu nauczania filozofii w polsce stwierdzony w postępowaniu procesowym ustanowienie spółdzielczego lokatorskiego budownictwa mieszkaniowego jest wpłacana przez beneficjenta pomocy , mysle sobie , że mieszkańcy i samorządy lokalne są zainteresowani wprowadzeniem ułatwień w sprzedaży ogółem spadła frekwencja , tłumy turystów zniknęły , bo oczywiście wszyscy się zgodzą na opiekę długoterminową świadczą oraz warstwa społeczna jako instytucja finansowa wypłaca dywidendę regularnie oraz samodzielnego wystawienia służb finansowych powoduje skutki w sferze wojskowości : gienieralnyj sztab w 1914 roku wstępuje jako wspólnik spółki ten trwa bardzo szybko zostanie ona umiejscowiona za najlepsze w kraju rozpoczęto wyświetlanie nie trafia albo państwo sprzedajecie , tak zwanych klawiszy hasła mieszkanie czteropokojowe warszawa bielany to centrum polsko-rosyjskiego pojednania i przystąpiła i stosuje kilka-kilkanaście osób zeskoczyło , car owners to najdokładniejszy katalog astronomiczny . <EOS> "
     ]
    }
   ],
   "source": [
    "prev = \"<BOS>\"\n",
    "\n",
    "rank = random.randrange(bigrams[prev][-1][0])\n",
    "for v, nw in bigrams[prev]:\n",
    "    if v >= rank:\n",
    "        word = nw\n",
    "        break\n",
    "\n",
    "\n",
    "print(word, end=\" \")\n",
    "\n",
    "while word != \"<EOS>\":\n",
    "    \n",
    "    if (prev,word) not in trigrams:\n",
    "        while (prev, word) not in trigrams:\n",
    "            prev = word\n",
    "            \n",
    "            while prev not in bigrams:\n",
    "                prev = random.sample(bigrams.keys(), 1)[0]\n",
    "            \n",
    "            rank = random.randrange(bigrams[prev][-1][0])\n",
    "            for v, nw in bigrams[prev]:\n",
    "                if v >= rank:\n",
    "                    word = nw\n",
    "                    break\n",
    "            \n",
    "            if word == \"<EOS>\":\n",
    "                break\n",
    "                  \n",
    "    else:\n",
    "        rank = random.randrange(trigrams[prev,word][-1][0])\n",
    "        for v, nw in trigrams[prev,word]:\n",
    "            if v >= rank:\n",
    "                prev = word\n",
    "                word = nw\n",
    "                break\n",
    "    print(word, end=\" \")"
   ]
  }
 ],
 "metadata": {
  "kernelspec": {
   "display_name": "Python 3",
   "language": "python",
   "name": "python3"
  },
  "language_info": {
   "codemirror_mode": {
    "name": "ipython",
    "version": 3
   },
   "file_extension": ".py",
   "mimetype": "text/x-python",
   "name": "python",
   "nbconvert_exporter": "python",
   "pygments_lexer": "ipython3",
   "version": "3.6.3"
  }
 },
 "nbformat": 4,
 "nbformat_minor": 2
}
